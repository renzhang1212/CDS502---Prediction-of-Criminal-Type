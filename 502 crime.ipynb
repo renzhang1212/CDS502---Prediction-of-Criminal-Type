{
 "cells": [
  {
   "cell_type": "code",
   "execution_count": 1,
   "metadata": {
    "collapsed": true
   },
   "outputs": [],
   "source": [
    "import pandas as pd\n",
    "import numpy as np\n",
    "import random as rnd\n",
    "import matplotlib.pyplot as plt\n",
    "%matplotlib inline"
   ]
  },
  {
   "cell_type": "code",
   "execution_count": 2,
   "metadata": {
    "collapsed": false
   },
   "outputs": [],
   "source": [
    "import datetime as dt\n",
    "from sklearn.linear_model import LogisticRegression\n",
    "from sklearn.svm import SVC, LinearSVC\n",
    "from sklearn.ensemble import RandomForestClassifier\n",
    "from sklearn.neighbors import KNeighborsClassifier\n",
    "from sklearn.naive_bayes import GaussianNB\n",
    "from sklearn.linear_model import Perceptron\n",
    "from sklearn.linear_model import SGDClassifier\n",
    "from sklearn.tree import DecisionTreeClassifier"
   ]
  },
  {
   "cell_type": "markdown",
   "metadata": {},
   "source": [
    "## Import data\n",
    "Read the data from csv file"
   ]
  },
  {
   "cell_type": "code",
   "execution_count": 3,
   "metadata": {
    "collapsed": false
   },
   "outputs": [
    {
     "data": {
      "text/html": [
       "<div>\n",
       "<table border=\"1\" class=\"dataframe\">\n",
       "  <thead>\n",
       "    <tr style=\"text-align: right;\">\n",
       "      <th></th>\n",
       "      <th>ID</th>\n",
       "      <th>Case Number</th>\n",
       "      <th>Date</th>\n",
       "      <th>Block</th>\n",
       "      <th>IUCR</th>\n",
       "      <th>Primary Type</th>\n",
       "      <th>Description</th>\n",
       "      <th>Location Description</th>\n",
       "      <th>Arrest</th>\n",
       "      <th>Domestic</th>\n",
       "      <th>...</th>\n",
       "      <th>Ward</th>\n",
       "      <th>Community Area</th>\n",
       "      <th>FBI Code</th>\n",
       "      <th>X Coordinate</th>\n",
       "      <th>Y Coordinate</th>\n",
       "      <th>Year</th>\n",
       "      <th>Updated On</th>\n",
       "      <th>Latitude</th>\n",
       "      <th>Longitude</th>\n",
       "      <th>Location</th>\n",
       "    </tr>\n",
       "  </thead>\n",
       "  <tbody>\n",
       "    <tr>\n",
       "      <th>0</th>\n",
       "      <td>3753774</td>\n",
       "      <td>HK769786</td>\n",
       "      <td>11/23/2004 10:15:00 PM</td>\n",
       "      <td>029XX S STATE ST</td>\n",
       "      <td>2024</td>\n",
       "      <td>NARCOTICS</td>\n",
       "      <td>POSS: HEROIN(WHITE)</td>\n",
       "      <td>CHA PARKING LOT/GROUNDS</td>\n",
       "      <td>True</td>\n",
       "      <td>False</td>\n",
       "      <td>...</td>\n",
       "      <td>3.0</td>\n",
       "      <td>35.0</td>\n",
       "      <td>18</td>\n",
       "      <td>1176755.0</td>\n",
       "      <td>1885570.0</td>\n",
       "      <td>2004</td>\n",
       "      <td>04/15/2016 08:55:02 AM</td>\n",
       "      <td>41.841350</td>\n",
       "      <td>-87.626861</td>\n",
       "      <td>(41.841350479, -87.626860911)</td>\n",
       "    </tr>\n",
       "    <tr>\n",
       "      <th>1</th>\n",
       "      <td>3753775</td>\n",
       "      <td>HL121290</td>\n",
       "      <td>01/12/2005 08:15:00 PM</td>\n",
       "      <td>111XX S STATE ST</td>\n",
       "      <td>1330</td>\n",
       "      <td>CRIMINAL TRESPASS</td>\n",
       "      <td>TO LAND</td>\n",
       "      <td>GAS STATION</td>\n",
       "      <td>True</td>\n",
       "      <td>False</td>\n",
       "      <td>...</td>\n",
       "      <td>34.0</td>\n",
       "      <td>49.0</td>\n",
       "      <td>26</td>\n",
       "      <td>1178229.0</td>\n",
       "      <td>1831287.0</td>\n",
       "      <td>2005</td>\n",
       "      <td>04/15/2016 08:55:02 AM</td>\n",
       "      <td>41.692359</td>\n",
       "      <td>-87.623097</td>\n",
       "      <td>(41.692358646, -87.623096746)</td>\n",
       "    </tr>\n",
       "    <tr>\n",
       "      <th>2</th>\n",
       "      <td>3753776</td>\n",
       "      <td>HL122737</td>\n",
       "      <td>01/13/2005 02:45:00 PM</td>\n",
       "      <td>104XX S WALLACE ST</td>\n",
       "      <td>1320</td>\n",
       "      <td>CRIMINAL DAMAGE</td>\n",
       "      <td>TO VEHICLE</td>\n",
       "      <td>PARKING LOT/GARAGE(NON.RESID.)</td>\n",
       "      <td>False</td>\n",
       "      <td>False</td>\n",
       "      <td>...</td>\n",
       "      <td>34.0</td>\n",
       "      <td>49.0</td>\n",
       "      <td>14</td>\n",
       "      <td>1174150.0</td>\n",
       "      <td>1835631.0</td>\n",
       "      <td>2005</td>\n",
       "      <td>04/15/2016 08:55:02 AM</td>\n",
       "      <td>41.704371</td>\n",
       "      <td>-87.637902</td>\n",
       "      <td>(41.704370559, -87.637902149)</td>\n",
       "    </tr>\n",
       "    <tr>\n",
       "      <th>3</th>\n",
       "      <td>3753777</td>\n",
       "      <td>HL121030</td>\n",
       "      <td>01/12/2005 05:35:00 PM</td>\n",
       "      <td>037XX W ALTGELD ST</td>\n",
       "      <td>0486</td>\n",
       "      <td>BATTERY</td>\n",
       "      <td>DOMESTIC BATTERY SIMPLE</td>\n",
       "      <td>APARTMENT</td>\n",
       "      <td>False</td>\n",
       "      <td>True</td>\n",
       "      <td>...</td>\n",
       "      <td>35.0</td>\n",
       "      <td>22.0</td>\n",
       "      <td>08B</td>\n",
       "      <td>1151164.0</td>\n",
       "      <td>1916359.0</td>\n",
       "      <td>2005</td>\n",
       "      <td>04/15/2016 08:55:02 AM</td>\n",
       "      <td>41.926378</td>\n",
       "      <td>-87.719964</td>\n",
       "      <td>(41.926378017, -87.719963957)</td>\n",
       "    </tr>\n",
       "    <tr>\n",
       "      <th>4</th>\n",
       "      <td>3753781</td>\n",
       "      <td>HK756758</td>\n",
       "      <td>11/17/2004 04:45:00 PM</td>\n",
       "      <td>002XX S ALBANY AVE</td>\n",
       "      <td>2024</td>\n",
       "      <td>NARCOTICS</td>\n",
       "      <td>POSS: HEROIN(WHITE)</td>\n",
       "      <td>SIDEWALK</td>\n",
       "      <td>True</td>\n",
       "      <td>False</td>\n",
       "      <td>...</td>\n",
       "      <td>28.0</td>\n",
       "      <td>27.0</td>\n",
       "      <td>18</td>\n",
       "      <td>1155752.0</td>\n",
       "      <td>1898738.0</td>\n",
       "      <td>2004</td>\n",
       "      <td>04/15/2016 08:55:02 AM</td>\n",
       "      <td>41.877933</td>\n",
       "      <td>-87.703580</td>\n",
       "      <td>(41.877933128, -87.703580435)</td>\n",
       "    </tr>\n",
       "    <tr>\n",
       "      <th>5</th>\n",
       "      <td>3753784</td>\n",
       "      <td>HK774022</td>\n",
       "      <td>11/26/2004 02:45:00 PM</td>\n",
       "      <td>015XX W 13TH ST</td>\n",
       "      <td>2024</td>\n",
       "      <td>NARCOTICS</td>\n",
       "      <td>POSS: HEROIN(WHITE)</td>\n",
       "      <td>CHA PARKING LOT/GROUNDS</td>\n",
       "      <td>True</td>\n",
       "      <td>False</td>\n",
       "      <td>...</td>\n",
       "      <td>2.0</td>\n",
       "      <td>28.0</td>\n",
       "      <td>18</td>\n",
       "      <td>1166406.0</td>\n",
       "      <td>1894142.0</td>\n",
       "      <td>2004</td>\n",
       "      <td>04/15/2016 08:55:02 AM</td>\n",
       "      <td>41.865100</td>\n",
       "      <td>-87.664593</td>\n",
       "      <td>(41.865100146, -87.664593068)</td>\n",
       "    </tr>\n",
       "    <tr>\n",
       "      <th>6</th>\n",
       "      <td>3753785</td>\n",
       "      <td>HL120239</td>\n",
       "      <td>01/12/2005 09:30:00 AM</td>\n",
       "      <td>023XX W 71ST ST</td>\n",
       "      <td>0920</td>\n",
       "      <td>MOTOR VEHICLE THEFT</td>\n",
       "      <td>ATT: AUTOMOBILE</td>\n",
       "      <td>STREET</td>\n",
       "      <td>False</td>\n",
       "      <td>False</td>\n",
       "      <td>...</td>\n",
       "      <td>18.0</td>\n",
       "      <td>66.0</td>\n",
       "      <td>07</td>\n",
       "      <td>1162129.0</td>\n",
       "      <td>1857532.0</td>\n",
       "      <td>2005</td>\n",
       "      <td>04/15/2016 08:55:02 AM</td>\n",
       "      <td>41.764728</td>\n",
       "      <td>-87.681314</td>\n",
       "      <td>(41.764728311, -87.681313755)</td>\n",
       "    </tr>\n",
       "    <tr>\n",
       "      <th>7</th>\n",
       "      <td>3753786</td>\n",
       "      <td>HL122544</td>\n",
       "      <td>01/12/2005 01:27:00 PM</td>\n",
       "      <td>011XX N CLARK ST</td>\n",
       "      <td>4387</td>\n",
       "      <td>OTHER OFFENSE</td>\n",
       "      <td>VIOLATE ORDER OF PROTECTION</td>\n",
       "      <td>APARTMENT</td>\n",
       "      <td>True</td>\n",
       "      <td>False</td>\n",
       "      <td>...</td>\n",
       "      <td>42.0</td>\n",
       "      <td>8.0</td>\n",
       "      <td>26</td>\n",
       "      <td>1175334.0</td>\n",
       "      <td>1907851.0</td>\n",
       "      <td>2005</td>\n",
       "      <td>04/15/2016 08:55:02 AM</td>\n",
       "      <td>41.902523</td>\n",
       "      <td>-87.631407</td>\n",
       "      <td>(41.902522915, -87.63140683)</td>\n",
       "    </tr>\n",
       "    <tr>\n",
       "      <th>8</th>\n",
       "      <td>3753787</td>\n",
       "      <td>HL121369</td>\n",
       "      <td>01/12/2005 07:30:00 PM</td>\n",
       "      <td>004XX E 79TH ST</td>\n",
       "      <td>0910</td>\n",
       "      <td>MOTOR VEHICLE THEFT</td>\n",
       "      <td>AUTOMOBILE</td>\n",
       "      <td>PARKING LOT/GARAGE(NON.RESID.)</td>\n",
       "      <td>False</td>\n",
       "      <td>False</td>\n",
       "      <td>...</td>\n",
       "      <td>6.0</td>\n",
       "      <td>44.0</td>\n",
       "      <td>07</td>\n",
       "      <td>1180739.0</td>\n",
       "      <td>1852731.0</td>\n",
       "      <td>2005</td>\n",
       "      <td>04/15/2016 08:55:02 AM</td>\n",
       "      <td>41.751146</td>\n",
       "      <td>-87.613251</td>\n",
       "      <td>(41.751146498, -87.613250611)</td>\n",
       "    </tr>\n",
       "    <tr>\n",
       "      <th>9</th>\n",
       "      <td>3753789</td>\n",
       "      <td>HL123269</td>\n",
       "      <td>01/13/2005 07:05:00 PM</td>\n",
       "      <td>126XX S HALSTED ST</td>\n",
       "      <td>0880</td>\n",
       "      <td>THEFT</td>\n",
       "      <td>PURSE-SNATCHING</td>\n",
       "      <td>SIDEWALK</td>\n",
       "      <td>False</td>\n",
       "      <td>False</td>\n",
       "      <td>...</td>\n",
       "      <td>34.0</td>\n",
       "      <td>53.0</td>\n",
       "      <td>06</td>\n",
       "      <td>1173297.0</td>\n",
       "      <td>1821020.0</td>\n",
       "      <td>2005</td>\n",
       "      <td>04/15/2016 08:55:02 AM</td>\n",
       "      <td>41.664295</td>\n",
       "      <td>-87.641455</td>\n",
       "      <td>(41.664294511, -87.641455374)</td>\n",
       "    </tr>\n",
       "  </tbody>\n",
       "</table>\n",
       "<p>10 rows × 22 columns</p>\n",
       "</div>"
      ],
      "text/plain": [
       "        ID Case Number                    Date               Block  IUCR  \\\n",
       "0  3753774    HK769786  11/23/2004 10:15:00 PM    029XX S STATE ST  2024   \n",
       "1  3753775    HL121290  01/12/2005 08:15:00 PM    111XX S STATE ST  1330   \n",
       "2  3753776    HL122737  01/13/2005 02:45:00 PM  104XX S WALLACE ST  1320   \n",
       "3  3753777    HL121030  01/12/2005 05:35:00 PM  037XX W ALTGELD ST  0486   \n",
       "4  3753781    HK756758  11/17/2004 04:45:00 PM  002XX S ALBANY AVE  2024   \n",
       "5  3753784    HK774022  11/26/2004 02:45:00 PM     015XX W 13TH ST  2024   \n",
       "6  3753785    HL120239  01/12/2005 09:30:00 AM     023XX W 71ST ST  0920   \n",
       "7  3753786    HL122544  01/12/2005 01:27:00 PM    011XX N CLARK ST  4387   \n",
       "8  3753787    HL121369  01/12/2005 07:30:00 PM     004XX E 79TH ST  0910   \n",
       "9  3753789    HL123269  01/13/2005 07:05:00 PM  126XX S HALSTED ST  0880   \n",
       "\n",
       "          Primary Type                  Description  \\\n",
       "0            NARCOTICS          POSS: HEROIN(WHITE)   \n",
       "1    CRIMINAL TRESPASS                      TO LAND   \n",
       "2      CRIMINAL DAMAGE                   TO VEHICLE   \n",
       "3              BATTERY      DOMESTIC BATTERY SIMPLE   \n",
       "4            NARCOTICS          POSS: HEROIN(WHITE)   \n",
       "5            NARCOTICS          POSS: HEROIN(WHITE)   \n",
       "6  MOTOR VEHICLE THEFT              ATT: AUTOMOBILE   \n",
       "7        OTHER OFFENSE  VIOLATE ORDER OF PROTECTION   \n",
       "8  MOTOR VEHICLE THEFT                   AUTOMOBILE   \n",
       "9                THEFT              PURSE-SNATCHING   \n",
       "\n",
       "             Location Description Arrest Domestic  \\\n",
       "0         CHA PARKING LOT/GROUNDS   True    False   \n",
       "1                     GAS STATION   True    False   \n",
       "2  PARKING LOT/GARAGE(NON.RESID.)  False    False   \n",
       "3                       APARTMENT  False     True   \n",
       "4                        SIDEWALK   True    False   \n",
       "5         CHA PARKING LOT/GROUNDS   True    False   \n",
       "6                          STREET  False    False   \n",
       "7                       APARTMENT   True    False   \n",
       "8  PARKING LOT/GARAGE(NON.RESID.)  False    False   \n",
       "9                        SIDEWALK  False    False   \n",
       "\n",
       "               ...                Ward  Community Area  FBI Code  \\\n",
       "0              ...                 3.0            35.0        18   \n",
       "1              ...                34.0            49.0        26   \n",
       "2              ...                34.0            49.0        14   \n",
       "3              ...                35.0            22.0       08B   \n",
       "4              ...                28.0            27.0        18   \n",
       "5              ...                 2.0            28.0        18   \n",
       "6              ...                18.0            66.0        07   \n",
       "7              ...                42.0             8.0        26   \n",
       "8              ...                 6.0            44.0        07   \n",
       "9              ...                34.0            53.0        06   \n",
       "\n",
       "   X Coordinate Y Coordinate  Year              Updated On   Latitude  \\\n",
       "0     1176755.0    1885570.0  2004  04/15/2016 08:55:02 AM  41.841350   \n",
       "1     1178229.0    1831287.0  2005  04/15/2016 08:55:02 AM  41.692359   \n",
       "2     1174150.0    1835631.0  2005  04/15/2016 08:55:02 AM  41.704371   \n",
       "3     1151164.0    1916359.0  2005  04/15/2016 08:55:02 AM  41.926378   \n",
       "4     1155752.0    1898738.0  2004  04/15/2016 08:55:02 AM  41.877933   \n",
       "5     1166406.0    1894142.0  2004  04/15/2016 08:55:02 AM  41.865100   \n",
       "6     1162129.0    1857532.0  2005  04/15/2016 08:55:02 AM  41.764728   \n",
       "7     1175334.0    1907851.0  2005  04/15/2016 08:55:02 AM  41.902523   \n",
       "8     1180739.0    1852731.0  2005  04/15/2016 08:55:02 AM  41.751146   \n",
       "9     1173297.0    1821020.0  2005  04/15/2016 08:55:02 AM  41.664295   \n",
       "\n",
       "   Longitude                       Location  \n",
       "0 -87.626861  (41.841350479, -87.626860911)  \n",
       "1 -87.623097  (41.692358646, -87.623096746)  \n",
       "2 -87.637902  (41.704370559, -87.637902149)  \n",
       "3 -87.719964  (41.926378017, -87.719963957)  \n",
       "4 -87.703580  (41.877933128, -87.703580435)  \n",
       "5 -87.664593  (41.865100146, -87.664593068)  \n",
       "6 -87.681314  (41.764728311, -87.681313755)  \n",
       "7 -87.631407   (41.902522915, -87.63140683)  \n",
       "8 -87.613251  (41.751146498, -87.613250611)  \n",
       "9 -87.641455  (41.664294511, -87.641455374)  \n",
       "\n",
       "[10 rows x 22 columns]"
      ]
     },
     "execution_count": 3,
     "metadata": {},
     "output_type": "execute_result"
    }
   ],
   "source": [
    "all_df = pd.read_csv('crimes.csv')\n",
    "all_df.head(10)"
   ]
  },
  {
   "cell_type": "code",
   "execution_count": 4,
   "metadata": {
    "collapsed": false
   },
   "outputs": [],
   "source": [
    "from sklearn.model_selection import train_test_split\n",
    "\n",
    "small_df, big_df = train_test_split(all_df, test_size=0.95)"
   ]
  },
  {
   "cell_type": "code",
   "execution_count": 5,
   "metadata": {
    "collapsed": true
   },
   "outputs": [],
   "source": [
    "from sklearn.model_selection import train_test_split\n",
    "\n",
    "train_df, test_df = train_test_split(small_df, test_size=0.4)"
   ]
  },
  {
   "cell_type": "code",
   "execution_count": 6,
   "metadata": {
    "collapsed": false
   },
   "outputs": [
    {
     "data": {
      "text/plain": [
       "193393"
      ]
     },
     "execution_count": 6,
     "metadata": {},
     "output_type": "execute_result"
    }
   ],
   "source": [
    "len(train_df)"
   ]
  },
  {
   "cell_type": "markdown",
   "metadata": {},
   "source": [
    "## Feature selection\n",
    "### 1) First round of dropping attributes\n",
    "* **Primary Type** will be the dependent variable - y, *DO NOT drop first until we finish our data analysis*\n",
    "* **ID** and **Case Number** are just a unique number, does not make sense to have them in prediction *Keep ID first until we finish our data analysis*\n",
    "* **Illinois Uniform Crime Reporting (IUCR)** codes are four digit codes that use to classify criminal incidents when taking individual reports. According to source http://www.isp.state.il.us/docs/6-260.pdf, a good example is 310, 320, 325, 326 and 330 are belong to Robbery Type. If we are going to predict criminal type. It is impossible for us to know IUCR ahead.\n",
    "* Both **Description** and **Primary type** are directly linked to IUCR. Without knowing IURC and primary type, it does not make sense to keep description column\n",
    "* Drop **Block** column, partial redacted address is not meaningful at all\n",
    "* Drop **FBI Code**, same reason as IUCR\n",
    "* Drop **Updated On**, does not influce the criminal type \n",
    "* Drop **Latitude**, **Longitude**, **X Coordinate**, **Y Coordinate**  and **Location**. Precise location does not provide much insight. **District**, **Beat**, **Community**, and **Ward** have provide sufficient knowledge for geographical area of crime cases\n",
    "* Drop **Year**, year does not make sense if we are going to predict the future case.\n",
    "   \n",
    "    "
   ]
  },
  {
   "cell_type": "code",
   "execution_count": 32,
   "metadata": {
    "collapsed": false
   },
   "outputs": [
    {
     "ename": "ValueError",
     "evalue": "labels ['Case Number' 'IUCR' 'Description' 'Block' 'FBI Code' 'Updated On'\n 'Latitude' 'Longitude' 'Location' 'X Coordinate' 'Y Coordinate' 'Year'] not contained in axis",
     "output_type": "error",
     "traceback": [
      "\u001b[0;31m---------------------------------------------------------------------------\u001b[0m",
      "\u001b[0;31mValueError\u001b[0m                                Traceback (most recent call last)",
      "\u001b[0;32m<ipython-input-32-906822d36008>\u001b[0m in \u001b[0;36m<module>\u001b[0;34m()\u001b[0m\n\u001b[1;32m     13\u001b[0m     \u001b[1;32mreturn\u001b[0m \u001b[0mdf\u001b[0m\u001b[1;33m\u001b[0m\u001b[0m\n\u001b[1;32m     14\u001b[0m \u001b[1;33m\u001b[0m\u001b[0m\n\u001b[0;32m---> 15\u001b[0;31m \u001b[0mtrain_x\u001b[0m \u001b[1;33m=\u001b[0m \u001b[0mfirst_drop_attributes\u001b[0m\u001b[1;33m(\u001b[0m\u001b[0mtrain_df\u001b[0m\u001b[1;33m)\u001b[0m\u001b[1;33m\u001b[0m\u001b[0m\n\u001b[0m\u001b[1;32m     16\u001b[0m \u001b[1;33m\u001b[0m\u001b[0m\n\u001b[1;32m     17\u001b[0m \u001b[0mprint\u001b[0m\u001b[1;33m(\u001b[0m\u001b[0mtrain_x\u001b[0m\u001b[1;33m.\u001b[0m\u001b[0mdtypes\u001b[0m\u001b[1;33m)\u001b[0m\u001b[1;33m\u001b[0m\u001b[0m\n",
      "\u001b[0;32m<ipython-input-32-906822d36008>\u001b[0m in \u001b[0;36mfirst_drop_attributes\u001b[0;34m(df)\u001b[0m\n\u001b[1;32m      1\u001b[0m \u001b[1;32mdef\u001b[0m \u001b[0mfirst_drop_attributes\u001b[0m\u001b[1;33m(\u001b[0m\u001b[0mdf\u001b[0m\u001b[1;33m)\u001b[0m\u001b[1;33m:\u001b[0m\u001b[1;33m\u001b[0m\u001b[0m\n\u001b[0;32m----> 2\u001b[0;31m     \u001b[0mdf\u001b[0m \u001b[1;33m=\u001b[0m \u001b[0mdf\u001b[0m\u001b[1;33m.\u001b[0m\u001b[0mdrop\u001b[0m\u001b[1;33m(\u001b[0m\u001b[1;33m[\u001b[0m \u001b[1;34m\"Case Number\"\u001b[0m\u001b[1;33m,\u001b[0m \u001b[1;34m\"IUCR\"\u001b[0m\u001b[1;33m,\u001b[0m \u001b[1;34m\"Description\"\u001b[0m\u001b[1;33m,\u001b[0m \u001b[1;34m\"Block\"\u001b[0m\u001b[1;33m,\u001b[0m \u001b[1;34m\"FBI Code\"\u001b[0m\u001b[1;33m,\u001b[0m \u001b[1;34m\"Updated On\"\u001b[0m\u001b[1;33m,\u001b[0m \u001b[1;34m\"Latitude\"\u001b[0m\u001b[1;33m,\u001b[0m \u001b[1;34m\"Longitude\"\u001b[0m\u001b[1;33m,\u001b[0m \u001b[1;34m\"Location\"\u001b[0m\u001b[1;33m,\u001b[0m \u001b[1;34m\"X Coordinate\"\u001b[0m\u001b[1;33m,\u001b[0m \u001b[1;34m\"Y Coordinate\"\u001b[0m\u001b[1;33m,\u001b[0m \u001b[1;34m\"Year\"\u001b[0m\u001b[1;33m]\u001b[0m\u001b[1;33m,\u001b[0m \u001b[0maxis\u001b[0m\u001b[1;33m=\u001b[0m\u001b[1;36m1\u001b[0m\u001b[1;33m)\u001b[0m\u001b[1;33m\u001b[0m\u001b[0m\n\u001b[0m\u001b[1;32m      3\u001b[0m     \u001b[0mdf\u001b[0m\u001b[1;33m.\u001b[0m\u001b[0mloc\u001b[0m\u001b[1;33m[\u001b[0m\u001b[1;33m:\u001b[0m\u001b[1;33m,\u001b[0m \u001b[1;34m\"Primary Type\"\u001b[0m\u001b[1;33m]\u001b[0m \u001b[1;33m=\u001b[0m \u001b[0mpd\u001b[0m\u001b[1;33m.\u001b[0m\u001b[0mCategorical\u001b[0m\u001b[1;33m(\u001b[0m\u001b[0mdf\u001b[0m\u001b[1;33m[\u001b[0m\u001b[1;34m'Primary Type'\u001b[0m\u001b[1;33m]\u001b[0m\u001b[1;33m)\u001b[0m\u001b[1;33m\u001b[0m\u001b[0m\n\u001b[1;32m      4\u001b[0m     \u001b[0mdf\u001b[0m\u001b[1;33m.\u001b[0m\u001b[0mloc\u001b[0m\u001b[1;33m[\u001b[0m\u001b[1;33m:\u001b[0m\u001b[1;33m,\u001b[0m \u001b[1;34m\"Location Description\"\u001b[0m\u001b[1;33m]\u001b[0m \u001b[1;33m=\u001b[0m \u001b[0mpd\u001b[0m\u001b[1;33m.\u001b[0m\u001b[0mCategorical\u001b[0m\u001b[1;33m(\u001b[0m\u001b[0mdf\u001b[0m\u001b[1;33m[\u001b[0m\u001b[1;34m'Location Description'\u001b[0m\u001b[1;33m]\u001b[0m\u001b[1;33m)\u001b[0m\u001b[1;33m\u001b[0m\u001b[0m\n\u001b[1;32m      5\u001b[0m     \u001b[0mdf\u001b[0m\u001b[1;33m.\u001b[0m\u001b[0mloc\u001b[0m\u001b[1;33m[\u001b[0m\u001b[1;33m:\u001b[0m\u001b[1;33m,\u001b[0m \u001b[1;34m\"Arrest\"\u001b[0m\u001b[1;33m]\u001b[0m \u001b[1;33m=\u001b[0m \u001b[0mpd\u001b[0m\u001b[1;33m.\u001b[0m\u001b[0mCategorical\u001b[0m\u001b[1;33m(\u001b[0m\u001b[0mdf\u001b[0m\u001b[1;33m[\u001b[0m\u001b[1;34m'Arrest'\u001b[0m\u001b[1;33m]\u001b[0m\u001b[1;33m)\u001b[0m\u001b[1;33m\u001b[0m\u001b[0m\n",
      "\u001b[0;32mC:\\Anaconda3\\lib\\site-packages\\pandas\\core\\generic.py\u001b[0m in \u001b[0;36mdrop\u001b[0;34m(self, labels, axis, level, inplace, errors)\u001b[0m\n\u001b[1;32m   1905\u001b[0m                 \u001b[0mnew_axis\u001b[0m \u001b[1;33m=\u001b[0m \u001b[0maxis\u001b[0m\u001b[1;33m.\u001b[0m\u001b[0mdrop\u001b[0m\u001b[1;33m(\u001b[0m\u001b[0mlabels\u001b[0m\u001b[1;33m,\u001b[0m \u001b[0mlevel\u001b[0m\u001b[1;33m=\u001b[0m\u001b[0mlevel\u001b[0m\u001b[1;33m,\u001b[0m \u001b[0merrors\u001b[0m\u001b[1;33m=\u001b[0m\u001b[0merrors\u001b[0m\u001b[1;33m)\u001b[0m\u001b[1;33m\u001b[0m\u001b[0m\n\u001b[1;32m   1906\u001b[0m             \u001b[1;32melse\u001b[0m\u001b[1;33m:\u001b[0m\u001b[1;33m\u001b[0m\u001b[0m\n\u001b[0;32m-> 1907\u001b[0;31m                 \u001b[0mnew_axis\u001b[0m \u001b[1;33m=\u001b[0m \u001b[0maxis\u001b[0m\u001b[1;33m.\u001b[0m\u001b[0mdrop\u001b[0m\u001b[1;33m(\u001b[0m\u001b[0mlabels\u001b[0m\u001b[1;33m,\u001b[0m \u001b[0merrors\u001b[0m\u001b[1;33m=\u001b[0m\u001b[0merrors\u001b[0m\u001b[1;33m)\u001b[0m\u001b[1;33m\u001b[0m\u001b[0m\n\u001b[0m\u001b[1;32m   1908\u001b[0m             \u001b[0mdropped\u001b[0m \u001b[1;33m=\u001b[0m \u001b[0mself\u001b[0m\u001b[1;33m.\u001b[0m\u001b[0mreindex\u001b[0m\u001b[1;33m(\u001b[0m\u001b[1;33m**\u001b[0m\u001b[1;33m{\u001b[0m\u001b[0maxis_name\u001b[0m\u001b[1;33m:\u001b[0m \u001b[0mnew_axis\u001b[0m\u001b[1;33m}\u001b[0m\u001b[1;33m)\u001b[0m\u001b[1;33m\u001b[0m\u001b[0m\n\u001b[1;32m   1909\u001b[0m             \u001b[1;32mtry\u001b[0m\u001b[1;33m:\u001b[0m\u001b[1;33m\u001b[0m\u001b[0m\n",
      "\u001b[0;32mC:\\Anaconda3\\lib\\site-packages\\pandas\\indexes\\base.py\u001b[0m in \u001b[0;36mdrop\u001b[0;34m(self, labels, errors)\u001b[0m\n\u001b[1;32m   3260\u001b[0m             \u001b[1;32mif\u001b[0m \u001b[0merrors\u001b[0m \u001b[1;33m!=\u001b[0m \u001b[1;34m'ignore'\u001b[0m\u001b[1;33m:\u001b[0m\u001b[1;33m\u001b[0m\u001b[0m\n\u001b[1;32m   3261\u001b[0m                 raise ValueError('labels %s not contained in axis' %\n\u001b[0;32m-> 3262\u001b[0;31m                                  labels[mask])\n\u001b[0m\u001b[1;32m   3263\u001b[0m             \u001b[0mindexer\u001b[0m \u001b[1;33m=\u001b[0m \u001b[0mindexer\u001b[0m\u001b[1;33m[\u001b[0m\u001b[1;33m~\u001b[0m\u001b[0mmask\u001b[0m\u001b[1;33m]\u001b[0m\u001b[1;33m\u001b[0m\u001b[0m\n\u001b[1;32m   3264\u001b[0m         \u001b[1;32mreturn\u001b[0m \u001b[0mself\u001b[0m\u001b[1;33m.\u001b[0m\u001b[0mdelete\u001b[0m\u001b[1;33m(\u001b[0m\u001b[0mindexer\u001b[0m\u001b[1;33m)\u001b[0m\u001b[1;33m\u001b[0m\u001b[0m\n",
      "\u001b[0;31mValueError\u001b[0m: labels ['Case Number' 'IUCR' 'Description' 'Block' 'FBI Code' 'Updated On'\n 'Latitude' 'Longitude' 'Location' 'X Coordinate' 'Y Coordinate' 'Year'] not contained in axis"
     ]
    }
   ],
   "source": [
    "def first_drop_attributes(df):    \n",
    "    df = df.drop([ \"Case Number\", \"IUCR\", \"Description\", \"Block\", \"FBI Code\", \"Updated On\", \"Latitude\", \"Longitude\", \"Location\", \"X Coordinate\", \"Y Coordinate\", \"Year\"], axis=1)\n",
    "    df.loc[:, \"Primary Type\"] = pd.Categorical(df['Primary Type'])\n",
    "    df.loc[:, \"Location Description\"] = pd.Categorical(df['Location Description'])\n",
    "    df.loc[:, \"Arrest\"] = pd.Categorical(df['Arrest'])\n",
    "    df.loc[:, \"Domestic\"] = pd.Categorical(df['Domestic'])\n",
    "    #df.loc[:, \"Beat\"] = pd.Categorical(df['Beat'])\n",
    "    #df.loc[:, \"District\"] = pd.Categorical(df['District'])\n",
    "    #df.loc[:, \"Ward\"] = pd.Categorical(df['Ward'])\n",
    "    #df.loc[:, \"Community Area\"] = pd.Categorical(df['Community Area'])\n",
    "    loc_to_change  = list(df['Location Description'].value_counts()[20:].index)\n",
    "    df.loc[df['Location Description'].isin(loc_to_change) , df.columns=='Location Description'] = 'OTHER'\n",
    "    return df\n",
    "\n",
    "train_x = first_drop_attributes(train_df)\n",
    "\n",
    "print(train_x.dtypes)\n",
    "train_x.head()"
   ]
  },
  {
   "cell_type": "markdown",
   "metadata": {},
   "source": [
    "We would like to know the ratio of primary type in this dataset. It shows theft and battery are the most common types"
   ]
  },
  {
   "cell_type": "code",
   "execution_count": 8,
   "metadata": {
    "collapsed": false
   },
   "outputs": [
    {
     "data": {
      "image/png": "[encoded data removed]",
      "text/plain": [
       "<matplotlib.figure.Figure at 0x216fd49c978>"
      ]
     },
     "metadata": {},
     "output_type": "display_data"
    }
   ],
   "source": [
    "train_x.groupby([train_x[\"Primary Type\"]]).size().sort_values(ascending=True).plot(kind='barh')\n",
    "plt.ylabel('Primary Type')\n",
    "plt.xlabel('Number of crimes')\n",
    "plt.title('Number of crimes grouped by primary type')\n",
    "plt.rc('figure', figsize=(20, 20))\n",
    "plt.show()"
   ]
  },
  {
   "cell_type": "markdown",
   "metadata": {},
   "source": [
    "### 2) Converting Date to month, day and time period\n",
    "* From date column, derive months, days(Mon-Sun) and time period\n",
    "* Time period can be categorized as Morning (6AM to 12:00PM), Afternoon (12:01PM to 5:00PM), Evening (5:01 PM to 8:00PM) and Night (8:01PM to 5:59PM)"
   ]
  },
  {
   "cell_type": "code",
   "execution_count": 9,
   "metadata": {
    "collapsed": false
   },
   "outputs": [
    {
     "data": {
      "text/html": [
       "<div>\n",
       "<table border=\"1\" class=\"dataframe\">\n",
       "  <thead>\n",
       "    <tr style=\"text-align: right;\">\n",
       "      <th></th>\n",
       "      <th>ID</th>\n",
       "      <th>Date</th>\n",
       "      <th>Primary Type</th>\n",
       "      <th>Location Description</th>\n",
       "      <th>Arrest</th>\n",
       "      <th>Domestic</th>\n",
       "      <th>Beat</th>\n",
       "      <th>District</th>\n",
       "      <th>Ward</th>\n",
       "      <th>Community Area</th>\n",
       "      <th>Date_o</th>\n",
       "      <th>Day Of Week</th>\n",
       "      <th>Time Period</th>\n",
       "    </tr>\n",
       "  </thead>\n",
       "  <tbody>\n",
       "    <tr>\n",
       "      <th>1455055</th>\n",
       "      <td>5594304</td>\n",
       "      <td>06/12/2007 02:00:00 PM</td>\n",
       "      <td>CRIMINAL TRESPASS</td>\n",
       "      <td>OTHER</td>\n",
       "      <td>True</td>\n",
       "      <td>False</td>\n",
       "      <td>2133</td>\n",
       "      <td>2.0</td>\n",
       "      <td>5.0</td>\n",
       "      <td>41.0</td>\n",
       "      <td>2007-06-12 02:00:00</td>\n",
       "      <td>Tuesday</td>\n",
       "      <td>NIGHT</td>\n",
       "    </tr>\n",
       "    <tr>\n",
       "      <th>901418</th>\n",
       "      <td>11101283</td>\n",
       "      <td>09/27/2017 12:05:00 PM</td>\n",
       "      <td>NARCOTICS</td>\n",
       "      <td>RESIDENCE PORCH/HALLWAY</td>\n",
       "      <td>True</td>\n",
       "      <td>False</td>\n",
       "      <td>213</td>\n",
       "      <td>2.0</td>\n",
       "      <td>3.0</td>\n",
       "      <td>35.0</td>\n",
       "      <td>2017-09-27 12:05:00</td>\n",
       "      <td>Wednesday</td>\n",
       "      <td>AFTERNOON</td>\n",
       "    </tr>\n",
       "    <tr>\n",
       "      <th>5833008</th>\n",
       "      <td>2952938</td>\n",
       "      <td>09/19/2003 05:30:00 PM</td>\n",
       "      <td>THEFT</td>\n",
       "      <td>STREET</td>\n",
       "      <td>False</td>\n",
       "      <td>False</td>\n",
       "      <td>1211</td>\n",
       "      <td>12.0</td>\n",
       "      <td>2.0</td>\n",
       "      <td>28.0</td>\n",
       "      <td>2003-09-19 05:30:00</td>\n",
       "      <td>Friday</td>\n",
       "      <td>NIGHT</td>\n",
       "    </tr>\n",
       "    <tr>\n",
       "      <th>6224322</th>\n",
       "      <td>3443851</td>\n",
       "      <td>07/21/2004 09:00:00 AM</td>\n",
       "      <td>CRIMINAL TRESPASS</td>\n",
       "      <td>OTHER</td>\n",
       "      <td>True</td>\n",
       "      <td>False</td>\n",
       "      <td>1024</td>\n",
       "      <td>10.0</td>\n",
       "      <td>22.0</td>\n",
       "      <td>30.0</td>\n",
       "      <td>2004-07-21 09:00:00</td>\n",
       "      <td>Wednesday</td>\n",
       "      <td>MORNING</td>\n",
       "    </tr>\n",
       "    <tr>\n",
       "      <th>2552991</th>\n",
       "      <td>7206231</td>\n",
       "      <td>11/01/2009 08:20:00 PM</td>\n",
       "      <td>THEFT</td>\n",
       "      <td>OTHER</td>\n",
       "      <td>True</td>\n",
       "      <td>False</td>\n",
       "      <td>2111</td>\n",
       "      <td>9.0</td>\n",
       "      <td>25.0</td>\n",
       "      <td>34.0</td>\n",
       "      <td>2009-11-01 08:20:00</td>\n",
       "      <td>Sunday</td>\n",
       "      <td>MORNING</td>\n",
       "    </tr>\n",
       "  </tbody>\n",
       "</table>\n",
       "</div>"
      ],
      "text/plain": [
       "               ID                    Date       Primary Type  \\\n",
       "1455055   5594304  06/12/2007 02:00:00 PM  CRIMINAL TRESPASS   \n",
       "901418   11101283  09/27/2017 12:05:00 PM          NARCOTICS   \n",
       "5833008   2952938  09/19/2003 05:30:00 PM              THEFT   \n",
       "6224322   3443851  07/21/2004 09:00:00 AM  CRIMINAL TRESPASS   \n",
       "2552991   7206231  11/01/2009 08:20:00 PM              THEFT   \n",
       "\n",
       "            Location Description Arrest Domestic  Beat District  Ward  \\\n",
       "1455055                    OTHER   True    False  2133      2.0   5.0   \n",
       "901418   RESIDENCE PORCH/HALLWAY   True    False   213      2.0   3.0   \n",
       "5833008                   STREET  False    False  1211     12.0   2.0   \n",
       "6224322                    OTHER   True    False  1024     10.0  22.0   \n",
       "2552991                    OTHER   True    False  2111      9.0  25.0   \n",
       "\n",
       "        Community Area              Date_o Day Of Week Time Period  \n",
       "1455055           41.0 2007-06-12 02:00:00     Tuesday       NIGHT  \n",
       "901418            35.0 2017-09-27 12:05:00   Wednesday   AFTERNOON  \n",
       "5833008           28.0 2003-09-19 05:30:00      Friday       NIGHT  \n",
       "6224322           30.0 2004-07-21 09:00:00   Wednesday     MORNING  \n",
       "2552991           34.0 2009-11-01 08:20:00      Sunday     MORNING  "
      ]
     },
     "execution_count": 9,
     "metadata": {},
     "output_type": "execute_result"
    }
   ],
   "source": [
    "def datetime_to_period(row):\n",
    "    date = row[\"Date_o\"]\n",
    "    period = \"None\"\n",
    "    if 6 <= date.hour < 12 :\n",
    "        period = \"MORNING\"\n",
    "    elif 12 <= date.hour < 17:\n",
    "        period = \"AFTERNOON\"\n",
    "    elif 17 <= date.hour < 20:\n",
    "        period = \"EVENING\"\n",
    "    else:\n",
    "        period = \"NIGHT\"\n",
    "    return period\n",
    "def second_date_extraction(df):\n",
    "    df.loc[:, \"Date_o\"] = pd.to_datetime(df[\"Date\"], format='%m/%d/%Y %H:%M:%S %p')\n",
    "    df.loc[:, \"Day Of Week\"] = df[\"Date_o\"].dt.weekday_name\n",
    "    df[\"Time Period\"] = df.apply (lambda row: datetime_to_period(row),axis=1)\n",
    "    \n",
    "    df.loc[:, \"Day Of Week\"] = pd.Categorical(df['Day Of Week'])\n",
    "    df.loc[:, \"Time Period\"] = pd.Categorical(df['Time Period'])\n",
    "    return df\n",
    "\n",
    "train_x = second_date_extraction(train_x)\n",
    "train_x.head()"
   ]
  },
  {
   "cell_type": "code",
   "execution_count": 10,
   "metadata": {
    "collapsed": false
   },
   "outputs": [
    {
     "data": {
      "image/png": "[encoded data removed]",
      "text/plain": [
       "<matplotlib.figure.Figure at 0x216b22da240>"
      ]
     },
     "metadata": {},
     "output_type": "display_data"
    }
   ],
   "source": [
    "train_x.groupby([train_x[\"Day Of Week\"]]).size().sort_values(ascending=True).plot(kind='barh')\n",
    "plt.ylabel('Days of the week')\n",
    "plt.xlabel('Number of crimes')\n",
    "plt.title('Number of crimes grouped by day of the week')\n",
    "plt.rc('figure', figsize=(7, 7))\n",
    "plt.show()"
   ]
  },
  {
   "cell_type": "code",
   "execution_count": 11,
   "metadata": {
    "collapsed": false
   },
   "outputs": [],
   "source": [
    "from sklearn.cluster import AgglomerativeClustering as AC\n",
    "\n",
    "def scale_df(df,axis=0):\n",
    "    '''\n",
    "    A utility function to scale numerical values (z-scale) to have a mean of zero\n",
    "    and a unit variance.\n",
    "    '''\n",
    "    return (df - df.mean(axis=axis)) / df.std(axis=axis)\n",
    "\n",
    "def plot_hmap(df, ix=None, cmap='bwr'):\n",
    "    '''\n",
    "    A function to plot heatmaps that show temporal patterns\n",
    "    '''\n",
    "    if ix is None:\n",
    "        ix = np.arange(df.shape[0])\n",
    "    plt.imshow(df.iloc[ix,:], cmap=cmap)\n",
    "    plt.colorbar(fraction=0.03)\n",
    "    plt.yticks(np.arange(df.shape[0]), df.index[ix])\n",
    "    plt.xticks(np.arange(df.shape[1]))\n",
    "    ax = plt.gca()\n",
    "    ax.set_xticklabels(df.columns)\n",
    "    plt.grid(False)\n",
    "    plt.show()\n",
    "    \n",
    "def scale_and_plot(df, ix = None):\n",
    "    '''\n",
    "    A wrapper function to calculate the scaled values within each row of df and plot_hmap\n",
    "    '''\n",
    "    df_marginal_scaled = scale_df(df.T).T\n",
    "    if ix is None:\n",
    "        ix = AC(4).fit(df_marginal_scaled).labels_.argsort() # a trick to make better heatmaps\n",
    "    cap = np.min([np.max(df_marginal_scaled.as_matrix()), np.abs(np.min(df_marginal_scaled.as_matrix()))])\n",
    "    df_marginal_scaled = np.clip(df_marginal_scaled, -1*cap, cap)\n",
    "    plot_hmap(df_marginal_scaled, ix=ix)\n",
    "    \n",
    "def normalize(df):\n",
    "    result = df.copy()\n",
    "    for feature_name in df.columns:\n",
    "        max_value = df[feature_name].max()\n",
    "        min_value = df[feature_name].min()\n",
    "        result[feature_name] = (df[feature_name] - min_value) / (max_value - min_value)\n",
    "    return result"
   ]
  },
  {
   "cell_type": "code",
   "execution_count": 12,
   "metadata": {
    "collapsed": false
   },
   "outputs": [
    {
     "data": {
      "image/png": "[encoded data removed]",
      "text/plain": [
       "<matplotlib.figure.Figure at 0x216b3925048>"
      ]
     },
     "metadata": {},
     "output_type": "display_data"
    }
   ],
   "source": [
    "plt.figure(figsize=(10,30))\n",
    "scale_and_plot(train_x.pivot_table(values=\"ID\", index='Primary Type', columns='Day Of Week', aggfunc=np.size).fillna(0))"
   ]
  },
  {
   "cell_type": "code",
   "execution_count": 13,
   "metadata": {
    "collapsed": false
   },
   "outputs": [
    {
     "ename": "ValueError",
     "evalue": "Input contains NaN, infinity or a value too large for dtype('float64').",
     "output_type": "error",
     "traceback": [
      "\u001b[0;31m---------------------------------------------------------------------------\u001b[0m",
      "\u001b[0;31mValueError\u001b[0m                                Traceback (most recent call last)",
      "\u001b[0;32m<ipython-input-13-c83e5130693f>\u001b[0m in \u001b[0;36m<module>\u001b[0;34m()\u001b[0m\n\u001b[1;32m      1\u001b[0m \u001b[0mplt\u001b[0m\u001b[1;33m.\u001b[0m\u001b[0mfigure\u001b[0m\u001b[1;33m(\u001b[0m\u001b[0mfigsize\u001b[0m\u001b[1;33m=\u001b[0m\u001b[1;33m(\u001b[0m\u001b[1;36m5\u001b[0m\u001b[1;33m,\u001b[0m\u001b[1;36m30\u001b[0m\u001b[1;33m)\u001b[0m\u001b[1;33m)\u001b[0m\u001b[1;33m\u001b[0m\u001b[0m\n\u001b[0;32m----> 2\u001b[0;31m \u001b[0mscale_and_plot\u001b[0m\u001b[1;33m(\u001b[0m\u001b[0mtrain_x\u001b[0m\u001b[1;33m.\u001b[0m\u001b[0mpivot_table\u001b[0m\u001b[1;33m(\u001b[0m\u001b[0mvalues\u001b[0m\u001b[1;33m=\u001b[0m\u001b[1;34m\"ID\"\u001b[0m\u001b[1;33m,\u001b[0m \u001b[0mindex\u001b[0m\u001b[1;33m=\u001b[0m\u001b[1;34m'Primary Type'\u001b[0m\u001b[1;33m,\u001b[0m \u001b[0mcolumns\u001b[0m\u001b[1;33m=\u001b[0m\u001b[1;34m'Time Period'\u001b[0m\u001b[1;33m,\u001b[0m \u001b[0maggfunc\u001b[0m\u001b[1;33m=\u001b[0m\u001b[0mnp\u001b[0m\u001b[1;33m.\u001b[0m\u001b[0msize\u001b[0m\u001b[1;33m)\u001b[0m\u001b[1;33m.\u001b[0m\u001b[0mfillna\u001b[0m\u001b[1;33m(\u001b[0m\u001b[1;36m0\u001b[0m\u001b[1;33m)\u001b[0m\u001b[1;33m)\u001b[0m\u001b[1;33m\u001b[0m\u001b[0m\n\u001b[0m",
      "\u001b[0;32m<ipython-input-11-51b7dbd19d7a>\u001b[0m in \u001b[0;36mscale_and_plot\u001b[0;34m(df, ix)\u001b[0m\n\u001b[1;32m     29\u001b[0m     \u001b[0mdf_marginal_scaled\u001b[0m \u001b[1;33m=\u001b[0m \u001b[0mscale_df\u001b[0m\u001b[1;33m(\u001b[0m\u001b[0mdf\u001b[0m\u001b[1;33m.\u001b[0m\u001b[0mT\u001b[0m\u001b[1;33m)\u001b[0m\u001b[1;33m.\u001b[0m\u001b[0mT\u001b[0m\u001b[1;33m\u001b[0m\u001b[0m\n\u001b[1;32m     30\u001b[0m     \u001b[1;32mif\u001b[0m \u001b[0mix\u001b[0m \u001b[1;32mis\u001b[0m \u001b[1;32mNone\u001b[0m\u001b[1;33m:\u001b[0m\u001b[1;33m\u001b[0m\u001b[0m\n\u001b[0;32m---> 31\u001b[0;31m         \u001b[0mix\u001b[0m \u001b[1;33m=\u001b[0m \u001b[0mAC\u001b[0m\u001b[1;33m(\u001b[0m\u001b[1;36m4\u001b[0m\u001b[1;33m)\u001b[0m\u001b[1;33m.\u001b[0m\u001b[0mfit\u001b[0m\u001b[1;33m(\u001b[0m\u001b[0mdf_marginal_scaled\u001b[0m\u001b[1;33m)\u001b[0m\u001b[1;33m.\u001b[0m\u001b[0mlabels_\u001b[0m\u001b[1;33m.\u001b[0m\u001b[0margsort\u001b[0m\u001b[1;33m(\u001b[0m\u001b[1;33m)\u001b[0m \u001b[1;31m# a trick to make better heatmaps\u001b[0m\u001b[1;33m\u001b[0m\u001b[0m\n\u001b[0m\u001b[1;32m     32\u001b[0m     \u001b[0mcap\u001b[0m \u001b[1;33m=\u001b[0m \u001b[0mnp\u001b[0m\u001b[1;33m.\u001b[0m\u001b[0mmin\u001b[0m\u001b[1;33m(\u001b[0m\u001b[1;33m[\u001b[0m\u001b[0mnp\u001b[0m\u001b[1;33m.\u001b[0m\u001b[0mmax\u001b[0m\u001b[1;33m(\u001b[0m\u001b[0mdf_marginal_scaled\u001b[0m\u001b[1;33m.\u001b[0m\u001b[0mas_matrix\u001b[0m\u001b[1;33m(\u001b[0m\u001b[1;33m)\u001b[0m\u001b[1;33m)\u001b[0m\u001b[1;33m,\u001b[0m \u001b[0mnp\u001b[0m\u001b[1;33m.\u001b[0m\u001b[0mabs\u001b[0m\u001b[1;33m(\u001b[0m\u001b[0mnp\u001b[0m\u001b[1;33m.\u001b[0m\u001b[0mmin\u001b[0m\u001b[1;33m(\u001b[0m\u001b[0mdf_marginal_scaled\u001b[0m\u001b[1;33m.\u001b[0m\u001b[0mas_matrix\u001b[0m\u001b[1;33m(\u001b[0m\u001b[1;33m)\u001b[0m\u001b[1;33m)\u001b[0m\u001b[1;33m)\u001b[0m\u001b[1;33m]\u001b[0m\u001b[1;33m)\u001b[0m\u001b[1;33m\u001b[0m\u001b[0m\n\u001b[1;32m     33\u001b[0m     \u001b[0mdf_marginal_scaled\u001b[0m \u001b[1;33m=\u001b[0m \u001b[0mnp\u001b[0m\u001b[1;33m.\u001b[0m\u001b[0mclip\u001b[0m\u001b[1;33m(\u001b[0m\u001b[0mdf_marginal_scaled\u001b[0m\u001b[1;33m,\u001b[0m \u001b[1;33m-\u001b[0m\u001b[1;36m1\u001b[0m\u001b[1;33m*\u001b[0m\u001b[0mcap\u001b[0m\u001b[1;33m,\u001b[0m \u001b[0mcap\u001b[0m\u001b[1;33m)\u001b[0m\u001b[1;33m\u001b[0m\u001b[0m\n",
      "\u001b[0;32mC:\\Anaconda3\\lib\\site-packages\\sklearn\\cluster\\hierarchical.py\u001b[0m in \u001b[0;36mfit\u001b[0;34m(self, X, y)\u001b[0m\n\u001b[1;32m    684\u001b[0m         \u001b[0mself\u001b[0m\u001b[1;33m\u001b[0m\u001b[0m\n\u001b[1;32m    685\u001b[0m         \"\"\"\n\u001b[0;32m--> 686\u001b[0;31m         \u001b[0mX\u001b[0m \u001b[1;33m=\u001b[0m \u001b[0mcheck_array\u001b[0m\u001b[1;33m(\u001b[0m\u001b[0mX\u001b[0m\u001b[1;33m,\u001b[0m \u001b[0mensure_min_samples\u001b[0m\u001b[1;33m=\u001b[0m\u001b[1;36m2\u001b[0m\u001b[1;33m,\u001b[0m \u001b[0mestimator\u001b[0m\u001b[1;33m=\u001b[0m\u001b[0mself\u001b[0m\u001b[1;33m)\u001b[0m\u001b[1;33m\u001b[0m\u001b[0m\n\u001b[0m\u001b[1;32m    687\u001b[0m         \u001b[0mmemory\u001b[0m \u001b[1;33m=\u001b[0m \u001b[0mself\u001b[0m\u001b[1;33m.\u001b[0m\u001b[0mmemory\u001b[0m\u001b[1;33m\u001b[0m\u001b[0m\n\u001b[1;32m    688\u001b[0m         \u001b[1;32mif\u001b[0m \u001b[0misinstance\u001b[0m\u001b[1;33m(\u001b[0m\u001b[0mmemory\u001b[0m\u001b[1;33m,\u001b[0m \u001b[0msix\u001b[0m\u001b[1;33m.\u001b[0m\u001b[0mstring_types\u001b[0m\u001b[1;33m)\u001b[0m\u001b[1;33m:\u001b[0m\u001b[1;33m\u001b[0m\u001b[0m\n",
      "\u001b[0;32mC:\\Anaconda3\\lib\\site-packages\\sklearn\\utils\\validation.py\u001b[0m in \u001b[0;36mcheck_array\u001b[0;34m(array, accept_sparse, dtype, order, copy, force_all_finite, ensure_2d, allow_nd, ensure_min_samples, ensure_min_features, warn_on_dtype, estimator)\u001b[0m\n\u001b[1;32m    405\u001b[0m                              % (array.ndim, estimator_name))\n\u001b[1;32m    406\u001b[0m         \u001b[1;32mif\u001b[0m \u001b[0mforce_all_finite\u001b[0m\u001b[1;33m:\u001b[0m\u001b[1;33m\u001b[0m\u001b[0m\n\u001b[0;32m--> 407\u001b[0;31m             \u001b[0m_assert_all_finite\u001b[0m\u001b[1;33m(\u001b[0m\u001b[0marray\u001b[0m\u001b[1;33m)\u001b[0m\u001b[1;33m\u001b[0m\u001b[0m\n\u001b[0m\u001b[1;32m    408\u001b[0m \u001b[1;33m\u001b[0m\u001b[0m\n\u001b[1;32m    409\u001b[0m     \u001b[0mshape_repr\u001b[0m \u001b[1;33m=\u001b[0m \u001b[0m_shape_repr\u001b[0m\u001b[1;33m(\u001b[0m\u001b[0marray\u001b[0m\u001b[1;33m.\u001b[0m\u001b[0mshape\u001b[0m\u001b[1;33m)\u001b[0m\u001b[1;33m\u001b[0m\u001b[0m\n",
      "\u001b[0;32mC:\\Anaconda3\\lib\\site-packages\\sklearn\\utils\\validation.py\u001b[0m in \u001b[0;36m_assert_all_finite\u001b[0;34m(X)\u001b[0m\n\u001b[1;32m     56\u001b[0m             and not np.isfinite(X).all()):\n\u001b[1;32m     57\u001b[0m         raise ValueError(\"Input contains NaN, infinity\"\n\u001b[0;32m---> 58\u001b[0;31m                          \" or a value too large for %r.\" % X.dtype)\n\u001b[0m\u001b[1;32m     59\u001b[0m \u001b[1;33m\u001b[0m\u001b[0m\n\u001b[1;32m     60\u001b[0m \u001b[1;33m\u001b[0m\u001b[0m\n",
      "\u001b[0;31mValueError\u001b[0m: Input contains NaN, infinity or a value too large for dtype('float64')."
     ]
    },
    {
     "data": {
      "text/plain": [
       "<matplotlib.figure.Figure at 0x216b462bac8>"
      ]
     },
     "metadata": {},
     "output_type": "display_data"
    }
   ],
   "source": [
    "plt.figure(figsize=(5,30))\n",
    "scale_and_plot(train_x.pivot_table(values=\"ID\", index='Primary Type', columns='Time Period', aggfunc=np.size).fillna(0))"
   ]
  },
  {
   "cell_type": "code",
   "execution_count": null,
   "metadata": {
    "collapsed": false
   },
   "outputs": [],
   "source": [
    "plt.figure(figsize=(30,50))\n",
    "scale_and_plot(train_x.pivot_table(values=\"ID\", index='Primary Type', columns='Location Description', aggfunc=np.size).fillna(0))"
   ]
  },
  {
   "cell_type": "code",
   "execution_count": null,
   "metadata": {
    "collapsed": false
   },
   "outputs": [],
   "source": [
    "train_x.describe(include = ['category'])\n",
    "train_x.dropna(axis=1, how='all')\n",
    "train_x.isnull().sum()"
   ]
  },
  {
   "cell_type": "code",
   "execution_count": 39,
   "metadata": {
    "collapsed": false
   },
   "outputs": [],
   "source": [
    "def one_hot_encoder(df):\n",
    "    return pd.get_dummies(df, columns=[\"Arrest\", \"Domestic\", \"Location Description\", \"Day Of Week\", \"Time Period\", \"District\"])\n",
    "train_x = one_hot_encoder(train_x)"
   ]
  },
  {
   "cell_type": "code",
   "execution_count": 18,
   "metadata": {
    "collapsed": false
   },
   "outputs": [
    {
     "data": {
      "text/html": [
       "<div>\n",
       "<table border=\"1\" class=\"dataframe\">\n",
       "  <thead>\n",
       "    <tr style=\"text-align: right;\">\n",
       "      <th></th>\n",
       "      <th>Primary Type</th>\n",
       "      <th>Location Description</th>\n",
       "      <th>Arrest</th>\n",
       "      <th>Domestic</th>\n",
       "      <th>Beat</th>\n",
       "      <th>District</th>\n",
       "      <th>Ward</th>\n",
       "      <th>Community Area</th>\n",
       "      <th>Day Of Week</th>\n",
       "      <th>Time Period</th>\n",
       "    </tr>\n",
       "  </thead>\n",
       "  <tbody>\n",
       "    <tr>\n",
       "      <th>count</th>\n",
       "      <td>193393</td>\n",
       "      <td>193303</td>\n",
       "      <td>193393</td>\n",
       "      <td>193393</td>\n",
       "      <td>193393</td>\n",
       "      <td>193393.0</td>\n",
       "      <td>174819.0</td>\n",
       "      <td>174775.0</td>\n",
       "      <td>193393</td>\n",
       "      <td>193393</td>\n",
       "    </tr>\n",
       "    <tr>\n",
       "      <th>unique</th>\n",
       "      <td>32</td>\n",
       "      <td>20</td>\n",
       "      <td>2</td>\n",
       "      <td>2</td>\n",
       "      <td>303</td>\n",
       "      <td>23.0</td>\n",
       "      <td>50.0</td>\n",
       "      <td>78.0</td>\n",
       "      <td>7</td>\n",
       "      <td>3</td>\n",
       "    </tr>\n",
       "    <tr>\n",
       "      <th>top</th>\n",
       "      <td>THEFT</td>\n",
       "      <td>STREET</td>\n",
       "      <td>False</td>\n",
       "      <td>False</td>\n",
       "      <td>423</td>\n",
       "      <td>8.0</td>\n",
       "      <td>28.0</td>\n",
       "      <td>25.0</td>\n",
       "      <td>Friday</td>\n",
       "      <td>MORNING</td>\n",
       "    </tr>\n",
       "    <tr>\n",
       "      <th>freq</th>\n",
       "      <td>40903</td>\n",
       "      <td>51057</td>\n",
       "      <td>138887</td>\n",
       "      <td>168476</td>\n",
       "      <td>1501</td>\n",
       "      <td>13140.0</td>\n",
       "      <td>8089.0</td>\n",
       "      <td>11207.0</td>\n",
       "      <td>29275</td>\n",
       "      <td>101725</td>\n",
       "    </tr>\n",
       "  </tbody>\n",
       "</table>\n",
       "</div>"
      ],
      "text/plain": [
       "       Primary Type Location Description  Arrest Domestic    Beat  District  \\\n",
       "count        193393               193303  193393   193393  193393  193393.0   \n",
       "unique           32                   20       2        2     303      23.0   \n",
       "top           THEFT               STREET   False    False     423       8.0   \n",
       "freq          40903                51057  138887   168476    1501   13140.0   \n",
       "\n",
       "            Ward  Community Area Day Of Week Time Period  \n",
       "count   174819.0        174775.0      193393      193393  \n",
       "unique      50.0            78.0           7           3  \n",
       "top         28.0            25.0      Friday     MORNING  \n",
       "freq      8089.0         11207.0       29275      101725  "
      ]
     },
     "execution_count": 18,
     "metadata": {},
     "output_type": "execute_result"
    }
   ],
   "source": [
    "train_x.describe(include=[\"category\"])"
   ]
  },
  {
   "cell_type": "code",
   "execution_count": 19,
   "metadata": {
    "collapsed": false
   },
   "outputs": [],
   "source": [
    "def createXY(df_x):\n",
    "    df_y = df_x[\"Primary Type\"]\n",
    "    df_x = df_x.drop([\"Primary Type\", \"ID\", \"Date_o\", \"Date\"], axis=1)\n",
    "    return df_x, df_y\n",
    "train_x, train_y = createXY(train_x)    \n",
    "\n"
   ]
  },
  {
   "cell_type": "code",
   "execution_count": 36,
   "metadata": {
    "collapsed": false
   },
   "outputs": [],
   "source": [
    "small_df_c = small_df.copy()\n",
    "small_df_c = small_df_c.drop([\"Community Area\", \"Ward\", \"Beat\"], axis=1)\n",
    "\n",
    "small_df_c = small_df_c.dropna(axis=1, how='all')\n",
    "small_df_c = first_drop_attributes(small_df_c)\n",
    "small_df_c = second_date_extraction(small_df_c)\n",
    "small_df_c = one_hot_encoder(small_df_c)\n",
    "\n",
    "train_df, test_df = train_test_split(small_df_c, test_size=0.4)\n",
    "\n",
    "\n",
    "train_x, train_y = createXY(train_df) \n",
    "\n",
    "\n",
    "test_x, test_y = createXY(test_df) \n"
   ]
  },
  {
   "cell_type": "code",
   "execution_count": 37,
   "metadata": {
    "collapsed": false
   },
   "outputs": [
    {
     "name": "stdout",
     "output_type": "stream",
     "text": [
      "193393 193393 128929 128929\n",
      "Index(['Arrest_False', 'Arrest_True', 'Domestic_False', 'Domestic_True',\n",
      "       'Location Description_ABANDONED BUILDING',\n",
      "       'Location Description_AIRCRAFT',\n",
      "       'Location Description_AIRPORT BUILDING NON-TERMINAL - NON-SECURE AREA',\n",
      "       'Location Description_AIRPORT BUILDING NON-TERMINAL - SECURE AREA',\n",
      "       'Location Description_AIRPORT EXTERIOR - NON-SECURE AREA',\n",
      "       'Location Description_AIRPORT EXTERIOR - SECURE AREA',\n",
      "       ...\n",
      "       'District_15.0', 'District_16.0', 'District_17.0', 'District_18.0',\n",
      "       'District_19.0', 'District_20.0', 'District_22.0', 'District_24.0',\n",
      "       'District_25.0', 'District_31.0'],\n",
      "      dtype='object', length=162) Index(['Arrest_False', 'Arrest_True', 'Domestic_False', 'Domestic_True',\n",
      "       'Location Description_ABANDONED BUILDING',\n",
      "       'Location Description_AIRCRAFT',\n",
      "       'Location Description_AIRPORT BUILDING NON-TERMINAL - NON-SECURE AREA',\n",
      "       'Location Description_AIRPORT BUILDING NON-TERMINAL - SECURE AREA',\n",
      "       'Location Description_AIRPORT EXTERIOR - NON-SECURE AREA',\n",
      "       'Location Description_AIRPORT EXTERIOR - SECURE AREA',\n",
      "       ...\n",
      "       'District_15.0', 'District_16.0', 'District_17.0', 'District_18.0',\n",
      "       'District_19.0', 'District_20.0', 'District_22.0', 'District_24.0',\n",
      "       'District_25.0', 'District_31.0'],\n",
      "      dtype='object', length=162)\n"
     ]
    }
   ],
   "source": [
    "print(len(train_x), len(train_y), len(test_x), len(test_y))\n",
    "print(test_x.columns, train_x.columns)"
   ]
  },
  {
   "cell_type": "code",
   "execution_count": 38,
   "metadata": {
    "collapsed": false
   },
   "outputs": [
    {
     "data": {
      "text/plain": [
       "41.82"
      ]
     },
     "execution_count": 38,
     "metadata": {},
     "output_type": "execute_result"
    }
   ],
   "source": [
    "logreg = LogisticRegression()\n",
    "logreg.fit(train_x, train_y)\n",
    "Y_pred = logreg.predict(test_x)\n",
    "acc_log = round(logreg.score(train_x, train_y) * 100, 2)\n",
    "acc_log"
   ]
  },
  {
   "cell_type": "code",
   "execution_count": null,
   "metadata": {
    "collapsed": false
   },
   "outputs": [],
   "source": []
  },
  {
   "cell_type": "code",
   "execution_count": null,
   "metadata": {
    "collapsed": true
   },
   "outputs": [],
   "source": []
  }
 ],
 "metadata": {
  "kernelspec": {
   "display_name": "Python 3",
   "language": "python",
   "name": "python3"
  },
  "language_info": {
   "codemirror_mode": {
    "name": "ipython",
    "version": 3
   },
   "file_extension": ".py",
   "mimetype": "text/x-python",
   "name": "python",
   "nbconvert_exporter": "python",
   "pygments_lexer": "ipython3",
   "version": "3.6.0"
  }
 },
 "nbformat": 4,
 "nbformat_minor": 2
}
